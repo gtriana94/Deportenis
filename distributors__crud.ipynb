{
 "cells": [
  {
   "attachments": {},
   "cell_type": "markdown",
   "metadata": {},
   "source": [
    "## Librerías necesarias creadas a la medida del requerimiento\n",
    "### Se crea una librería donde se engloban las funciones necesarias para interactuar con el script."
   ]
  },
  {
   "cell_type": "code",
   "execution_count": null,
   "metadata": {},
   "outputs": [],
   "source": [
    "import dao_dp as dp"
   ]
  },
  {
   "attachments": {},
   "cell_type": "markdown",
   "metadata": {},
   "source": [
    "## Inicialización y creación de tablas de consulta\n",
    "### Línea que permite acceder o crear la base de datos."
   ]
  },
  {
   "cell_type": "code",
   "execution_count": null,
   "metadata": {},
   "outputs": [],
   "source": [
    "dp.iniciar()"
   ]
  },
  {
   "attachments": {},
   "cell_type": "markdown",
   "metadata": {},
   "source": [
    "## Menú de interacciones\n",
    "### Opciones\n",
    "-   Ver da un resumen vistazo a todos los elementos guardados en la base de datos.\n",
    "-   Agregar permite dar de alta a un nuevo registro.\n",
    "-   Modificar permite editar un registro existente volviendo a capturarlo.\n",
    "-   Eliminar permite eliminar completamente un registro.\n",
    "-   Buscar permite seleccionar los registros que cumplan ciertos criterios."
   ]
  },
  {
   "cell_type": "code",
   "execution_count": null,
   "metadata": {},
   "outputs": [],
   "source": [
    "dp.input_options()"
   ]
  }
 ],
 "metadata": {
  "kernelspec": {
   "display_name": "Python 3.10.8 64-bit (microsoft store)",
   "language": "python",
   "name": "python3"
  },
  "language_info": {
   "codemirror_mode": {
    "name": "ipython",
    "version": 3
   },
   "file_extension": ".py",
   "mimetype": "text/x-python",
   "name": "python",
   "nbconvert_exporter": "python",
   "pygments_lexer": "ipython3",
   "version": "3.10.8"
  },
  "orig_nbformat": 4,
  "vscode": {
   "interpreter": {
    "hash": "ec329abef892144b81179566f770e443b5d084d156be4e32b9a1ebe71fc01cb1"
   }
  }
 },
 "nbformat": 4,
 "nbformat_minor": 2
}
